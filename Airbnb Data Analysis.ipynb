{
 "cells": [
  {
   "cell_type": "markdown",
   "id": "f24fec4d",
   "metadata": {},
   "source": [
    "# Introduction\n",
    "\n",
    "Airbnb is a great travel option for many people. And for that reason, it can also be viewed as a lucritive investment option.\n",
    "The question arises on whether it is possible to determine an Airbnb listings success based on its attributes and performance.\n",
    "Looking at Airbnb listing in Cape Town through the lens of performance, I'm curious about whether it is worth investing in listings.\n",
    "\n",
    "I will be exploring the Cape Town Airbnb dataset (source: http://insideairbnb.com/get-the-data) to find out more about the listings available in the area and answering a few questions such as those below to gain a better understanding of this market. \n",
    "\n",
    "## Questions:\n",
    "1. Is it better to invest in a few listings with above-average rates or many lower-priced rated properties?\n",
    "2. Where are the higher priced listings located vs lower priced?\n",
    "3. Can we determine the potential revenue of the listings using the database features? "
   ]
  },
  {
   "cell_type": "markdown",
   "id": "1dfd7eec-a752-42cf-a4f2-381b889413bb",
   "metadata": {},
   "source": [
    "## Initial Setup - Libraries, Layout and Functions Used"
   ]
  },
  {
   "cell_type": "code",
   "execution_count": 1,
   "id": "cce0fdcc",
   "metadata": {},
   "outputs": [],
   "source": [
    "#Libraries\n",
    "import numpy as np\n",
    "import pandas as pd\n",
    "import matplotlib.pyplot as plt\n",
    "import seaborn as sns\n",
    "import warnings\n",
    "import re\n",
    "import scipy.stats as stats"
   ]
  },
  {
   "cell_type": "code",
   "execution_count": 2,
   "id": "8f43ec77",
   "metadata": {},
   "outputs": [],
   "source": [
    "#layout\n",
    "palette = [\"#761744\",\"#043565\",\"#B2342F\",\"#C85A25\",\"#F3A712\",\"#9C0D38\",\"#50214F\",\"#1C5859\",\"#DE811C\",\"#337B4C\"]\n",
    "sns.set(style='white', context='notebook', palette = palette)\n",
    "\n",
    "warnings.filterwarnings('ignore')\n",
    "warnings.simplefilter(action='ignore', category=FutureWarning)\n",
    "\n",
    "pd.set_option('display.max_columns', 500, 'display.max_rows',100)\n",
    "pd.options.display.float_format = '{:.5f}'.format\n",
    "\n",
    "%matplotlib inline"
   ]
  },
  {
   "cell_type": "markdown",
   "id": "35814982-7b06-42b2-b2e8-15321affc202",
   "metadata": {},
   "source": [
    "## Review the Data"
   ]
  },
  {
   "cell_type": "code",
   "execution_count": 3,
   "id": "19a254c1-3bd1-4003-9723-c164dfd66768",
   "metadata": {},
   "outputs": [
    {
     "data": {
      "text/html": [
       "<div>\n",
       "<style scoped>\n",
       "    .dataframe tbody tr th:only-of-type {\n",
       "        vertical-align: middle;\n",
       "    }\n",
       "\n",
       "    .dataframe tbody tr th {\n",
       "        vertical-align: top;\n",
       "    }\n",
       "\n",
       "    .dataframe thead th {\n",
       "        text-align: right;\n",
       "    }\n",
       "</style>\n",
       "<table border=\"1\" class=\"dataframe\">\n",
       "  <thead>\n",
       "    <tr style=\"text-align: right;\">\n",
       "      <th></th>\n",
       "      <th>id</th>\n",
       "      <th>name</th>\n",
       "      <th>host_id</th>\n",
       "      <th>host_name</th>\n",
       "      <th>neighbourhood_group</th>\n",
       "      <th>neighbourhood</th>\n",
       "      <th>latitude</th>\n",
       "      <th>longitude</th>\n",
       "      <th>room_type</th>\n",
       "      <th>price</th>\n",
       "      <th>minimum_nights</th>\n",
       "      <th>number_of_reviews</th>\n",
       "      <th>last_review</th>\n",
       "      <th>reviews_per_month</th>\n",
       "      <th>calculated_host_listings_count</th>\n",
       "      <th>availability_365</th>\n",
       "      <th>number_of_reviews_ltm</th>\n",
       "      <th>license</th>\n",
       "    </tr>\n",
       "  </thead>\n",
       "  <tbody>\n",
       "    <tr>\n",
       "      <th>0</th>\n",
       "      <td>3191</td>\n",
       "      <td>Malleson Garden Cottage</td>\n",
       "      <td>3754</td>\n",
       "      <td>Brigitte</td>\n",
       "      <td>NaN</td>\n",
       "      <td>Ward 57</td>\n",
       "      <td>-33.94739</td>\n",
       "      <td>18.47600</td>\n",
       "      <td>Entire home/apt</td>\n",
       "      <td>436</td>\n",
       "      <td>3</td>\n",
       "      <td>63</td>\n",
       "      <td>2022-03-23</td>\n",
       "      <td>0.59000</td>\n",
       "      <td>1</td>\n",
       "      <td>331</td>\n",
       "      <td>9</td>\n",
       "      <td>NaN</td>\n",
       "    </tr>\n",
       "    <tr>\n",
       "      <th>1</th>\n",
       "      <td>15007</td>\n",
       "      <td>Blaauwberg House</td>\n",
       "      <td>59072</td>\n",
       "      <td>Dirk</td>\n",
       "      <td>NaN</td>\n",
       "      <td>Ward 23</td>\n",
       "      <td>-33.80001</td>\n",
       "      <td>18.46063</td>\n",
       "      <td>Entire home/apt</td>\n",
       "      <td>2769</td>\n",
       "      <td>2</td>\n",
       "      <td>36</td>\n",
       "      <td>2022-02-25</td>\n",
       "      <td>0.36000</td>\n",
       "      <td>5</td>\n",
       "      <td>273</td>\n",
       "      <td>7</td>\n",
       "      <td>NaN</td>\n",
       "    </tr>\n",
       "    <tr>\n",
       "      <th>2</th>\n",
       "      <td>15068</td>\n",
       "      <td>Grande Bay</td>\n",
       "      <td>59318</td>\n",
       "      <td>Linda</td>\n",
       "      <td>NaN</td>\n",
       "      <td>Ward 23</td>\n",
       "      <td>-33.78799</td>\n",
       "      <td>18.46082</td>\n",
       "      <td>Entire home/apt</td>\n",
       "      <td>2800</td>\n",
       "      <td>4</td>\n",
       "      <td>0</td>\n",
       "      <td>NaN</td>\n",
       "      <td>NaN</td>\n",
       "      <td>10</td>\n",
       "      <td>365</td>\n",
       "      <td>0</td>\n",
       "      <td>NaN</td>\n",
       "    </tr>\n",
       "  </tbody>\n",
       "</table>\n",
       "</div>"
      ],
      "text/plain": [
       "      id                     name  host_id host_name  neighbourhood_group  \\\n",
       "0   3191  Malleson Garden Cottage     3754  Brigitte                  NaN   \n",
       "1  15007         Blaauwberg House    59072      Dirk                  NaN   \n",
       "2  15068               Grande Bay    59318     Linda                  NaN   \n",
       "\n",
       "  neighbourhood  latitude  longitude        room_type  price  minimum_nights  \\\n",
       "0       Ward 57 -33.94739   18.47600  Entire home/apt    436               3   \n",
       "1       Ward 23 -33.80001   18.46063  Entire home/apt   2769               2   \n",
       "2       Ward 23 -33.78799   18.46082  Entire home/apt   2800               4   \n",
       "\n",
       "   number_of_reviews last_review  reviews_per_month  \\\n",
       "0                 63  2022-03-23            0.59000   \n",
       "1                 36  2022-02-25            0.36000   \n",
       "2                  0         NaN                NaN   \n",
       "\n",
       "   calculated_host_listings_count  availability_365  number_of_reviews_ltm  \\\n",
       "0                               1               331                      9   \n",
       "1                               5               273                      7   \n",
       "2                              10               365                      0   \n",
       "\n",
       "   license  \n",
       "0      NaN  \n",
       "1      NaN  \n",
       "2      NaN  "
      ]
     },
     "execution_count": 3,
     "metadata": {},
     "output_type": "execute_result"
    }
   ],
   "source": [
    "df = pd.read_csv(\"listings.csv\")\n",
    "df.head(3)"
   ]
  },
  {
   "cell_type": "code",
   "execution_count": 4,
   "id": "12187aad-39d7-46b6-84da-4df1d0671241",
   "metadata": {},
   "outputs": [
    {
     "name": "stdout",
     "output_type": "stream",
     "text": [
      "The dataset has 17442 samples and 18 features\n",
      "\n",
      "\n",
      "\n",
      "Dataset information\n",
      "<class 'pandas.core.frame.DataFrame'>\n",
      "RangeIndex: 17442 entries, 0 to 17441\n",
      "Data columns (total 18 columns):\n",
      " #   Column                          Non-Null Count  Dtype  \n",
      "---  ------                          --------------  -----  \n",
      " 0   id                              17442 non-null  int64  \n",
      " 1   name                            17442 non-null  object \n",
      " 2   host_id                         17442 non-null  int64  \n",
      " 3   host_name                       17440 non-null  object \n",
      " 4   neighbourhood_group             0 non-null      float64\n",
      " 5   neighbourhood                   17442 non-null  object \n",
      " 6   latitude                        17442 non-null  float64\n",
      " 7   longitude                       17442 non-null  float64\n",
      " 8   room_type                       17442 non-null  object \n",
      " 9   price                           17442 non-null  int64  \n",
      " 10  minimum_nights                  17442 non-null  int64  \n",
      " 11  number_of_reviews               17442 non-null  int64  \n",
      " 12  last_review                     13192 non-null  object \n",
      " 13  reviews_per_month               13192 non-null  float64\n",
      " 14  calculated_host_listings_count  17442 non-null  int64  \n",
      " 15  availability_365                17442 non-null  int64  \n",
      " 16  number_of_reviews_ltm           17442 non-null  int64  \n",
      " 17  license                         0 non-null      float64\n",
      "dtypes: float64(5), int64(8), object(5)\n",
      "memory usage: 2.4+ MB\n"
     ]
    }
   ],
   "source": [
    "print(\"The dataset has {} samples and {} features\".format(df.shape[0], df.shape[1]))\n",
    "print(\"\\n\\n\")\n",
    "print(\"Dataset information\")\n",
    "df.info()"
   ]
  },
  {
   "cell_type": "code",
   "execution_count": 5,
   "id": "cde2f5c5-74be-4809-b561-79408d1e814c",
   "metadata": {},
   "outputs": [
    {
     "data": {
      "text/html": [
       "<div>\n",
       "<style scoped>\n",
       "    .dataframe tbody tr th:only-of-type {\n",
       "        vertical-align: middle;\n",
       "    }\n",
       "\n",
       "    .dataframe tbody tr th {\n",
       "        vertical-align: top;\n",
       "    }\n",
       "\n",
       "    .dataframe thead th {\n",
       "        text-align: right;\n",
       "    }\n",
       "</style>\n",
       "<table border=\"1\" class=\"dataframe\">\n",
       "  <thead>\n",
       "    <tr style=\"text-align: right;\">\n",
       "      <th></th>\n",
       "      <th>count</th>\n",
       "      <th>mean</th>\n",
       "      <th>std</th>\n",
       "      <th>min</th>\n",
       "      <th>25%</th>\n",
       "      <th>50%</th>\n",
       "      <th>75%</th>\n",
       "      <th>max</th>\n",
       "    </tr>\n",
       "  </thead>\n",
       "  <tbody>\n",
       "    <tr>\n",
       "      <th>id</th>\n",
       "      <td>17442.00000</td>\n",
       "      <td>36065305724651064.00000</td>\n",
       "      <td>138755958995037888.00000</td>\n",
       "      <td>3191.00000</td>\n",
       "      <td>16902501.75000</td>\n",
       "      <td>32304229.00000</td>\n",
       "      <td>47068937.00000</td>\n",
       "      <td>591071279796001152.00000</td>\n",
       "    </tr>\n",
       "    <tr>\n",
       "      <th>host_id</th>\n",
       "      <td>17442.00000</td>\n",
       "      <td>132093473.02769</td>\n",
       "      <td>129086782.41820</td>\n",
       "      <td>3754.00000</td>\n",
       "      <td>27280292.25000</td>\n",
       "      <td>81741143.50000</td>\n",
       "      <td>218745884.00000</td>\n",
       "      <td>451326096.00000</td>\n",
       "    </tr>\n",
       "    <tr>\n",
       "      <th>neighbourhood_group</th>\n",
       "      <td>0.00000</td>\n",
       "      <td>NaN</td>\n",
       "      <td>NaN</td>\n",
       "      <td>NaN</td>\n",
       "      <td>NaN</td>\n",
       "      <td>NaN</td>\n",
       "      <td>NaN</td>\n",
       "      <td>NaN</td>\n",
       "    </tr>\n",
       "    <tr>\n",
       "      <th>latitude</th>\n",
       "      <td>17442.00000</td>\n",
       "      <td>-33.96219</td>\n",
       "      <td>0.10164</td>\n",
       "      <td>-34.26504</td>\n",
       "      <td>-34.02814</td>\n",
       "      <td>-33.93249</td>\n",
       "      <td>-33.91032</td>\n",
       "      <td>-33.55177</td>\n",
       "    </tr>\n",
       "    <tr>\n",
       "      <th>longitude</th>\n",
       "      <td>17442.00000</td>\n",
       "      <td>18.48006</td>\n",
       "      <td>0.13127</td>\n",
       "      <td>18.31941</td>\n",
       "      <td>18.40391</td>\n",
       "      <td>18.43498</td>\n",
       "      <td>18.48874</td>\n",
       "      <td>18.94104</td>\n",
       "    </tr>\n",
       "    <tr>\n",
       "      <th>price</th>\n",
       "      <td>17442.00000</td>\n",
       "      <td>2548.15497</td>\n",
       "      <td>5889.64466</td>\n",
       "      <td>150.00000</td>\n",
       "      <td>742.00000</td>\n",
       "      <td>1200.00000</td>\n",
       "      <td>2400.00000</td>\n",
       "      <td>182000.00000</td>\n",
       "    </tr>\n",
       "    <tr>\n",
       "      <th>minimum_nights</th>\n",
       "      <td>17442.00000</td>\n",
       "      <td>4.28139</td>\n",
       "      <td>14.59406</td>\n",
       "      <td>1.00000</td>\n",
       "      <td>1.00000</td>\n",
       "      <td>2.00000</td>\n",
       "      <td>3.00000</td>\n",
       "      <td>730.00000</td>\n",
       "    </tr>\n",
       "    <tr>\n",
       "      <th>number_of_reviews</th>\n",
       "      <td>17442.00000</td>\n",
       "      <td>19.51749</td>\n",
       "      <td>37.63855</td>\n",
       "      <td>0.00000</td>\n",
       "      <td>1.00000</td>\n",
       "      <td>5.00000</td>\n",
       "      <td>21.00000</td>\n",
       "      <td>564.00000</td>\n",
       "    </tr>\n",
       "    <tr>\n",
       "      <th>reviews_per_month</th>\n",
       "      <td>13192.00000</td>\n",
       "      <td>0.84429</td>\n",
       "      <td>1.08764</td>\n",
       "      <td>0.01000</td>\n",
       "      <td>0.15000</td>\n",
       "      <td>0.47000</td>\n",
       "      <td>1.10000</td>\n",
       "      <td>19.66000</td>\n",
       "    </tr>\n",
       "    <tr>\n",
       "      <th>calculated_host_listings_count</th>\n",
       "      <td>17442.00000</td>\n",
       "      <td>8.12682</td>\n",
       "      <td>16.50855</td>\n",
       "      <td>1.00000</td>\n",
       "      <td>1.00000</td>\n",
       "      <td>2.00000</td>\n",
       "      <td>6.00000</td>\n",
       "      <td>100.00000</td>\n",
       "    </tr>\n",
       "    <tr>\n",
       "      <th>availability_365</th>\n",
       "      <td>17442.00000</td>\n",
       "      <td>227.02207</td>\n",
       "      <td>125.67401</td>\n",
       "      <td>0.00000</td>\n",
       "      <td>115.00000</td>\n",
       "      <td>268.00000</td>\n",
       "      <td>345.00000</td>\n",
       "      <td>365.00000</td>\n",
       "    </tr>\n",
       "    <tr>\n",
       "      <th>number_of_reviews_ltm</th>\n",
       "      <td>17442.00000</td>\n",
       "      <td>5.02907</td>\n",
       "      <td>9.65390</td>\n",
       "      <td>0.00000</td>\n",
       "      <td>0.00000</td>\n",
       "      <td>1.00000</td>\n",
       "      <td>6.00000</td>\n",
       "      <td>142.00000</td>\n",
       "    </tr>\n",
       "    <tr>\n",
       "      <th>license</th>\n",
       "      <td>0.00000</td>\n",
       "      <td>NaN</td>\n",
       "      <td>NaN</td>\n",
       "      <td>NaN</td>\n",
       "      <td>NaN</td>\n",
       "      <td>NaN</td>\n",
       "      <td>NaN</td>\n",
       "      <td>NaN</td>\n",
       "    </tr>\n",
       "  </tbody>\n",
       "</table>\n",
       "</div>"
      ],
      "text/plain": [
       "                                     count                    mean  \\\n",
       "id                             17442.00000 36065305724651064.00000   \n",
       "host_id                        17442.00000         132093473.02769   \n",
       "neighbourhood_group                0.00000                     NaN   \n",
       "latitude                       17442.00000               -33.96219   \n",
       "longitude                      17442.00000                18.48006   \n",
       "price                          17442.00000              2548.15497   \n",
       "minimum_nights                 17442.00000                 4.28139   \n",
       "number_of_reviews              17442.00000                19.51749   \n",
       "reviews_per_month              13192.00000                 0.84429   \n",
       "calculated_host_listings_count 17442.00000                 8.12682   \n",
       "availability_365               17442.00000               227.02207   \n",
       "number_of_reviews_ltm          17442.00000                 5.02907   \n",
       "license                            0.00000                     NaN   \n",
       "\n",
       "                                                    std        min  \\\n",
       "id                             138755958995037888.00000 3191.00000   \n",
       "host_id                                 129086782.41820 3754.00000   \n",
       "neighbourhood_group                                 NaN        NaN   \n",
       "latitude                                        0.10164  -34.26504   \n",
       "longitude                                       0.13127   18.31941   \n",
       "price                                        5889.64466  150.00000   \n",
       "minimum_nights                                 14.59406    1.00000   \n",
       "number_of_reviews                              37.63855    0.00000   \n",
       "reviews_per_month                               1.08764    0.01000   \n",
       "calculated_host_listings_count                 16.50855    1.00000   \n",
       "availability_365                              125.67401    0.00000   \n",
       "number_of_reviews_ltm                           9.65390    0.00000   \n",
       "license                                             NaN        NaN   \n",
       "\n",
       "                                          25%            50%             75%  \\\n",
       "id                             16902501.75000 32304229.00000  47068937.00000   \n",
       "host_id                        27280292.25000 81741143.50000 218745884.00000   \n",
       "neighbourhood_group                       NaN            NaN             NaN   \n",
       "latitude                            -34.02814      -33.93249       -33.91032   \n",
       "longitude                            18.40391       18.43498        18.48874   \n",
       "price                               742.00000     1200.00000      2400.00000   \n",
       "minimum_nights                        1.00000        2.00000         3.00000   \n",
       "number_of_reviews                     1.00000        5.00000        21.00000   \n",
       "reviews_per_month                     0.15000        0.47000         1.10000   \n",
       "calculated_host_listings_count        1.00000        2.00000         6.00000   \n",
       "availability_365                    115.00000      268.00000       345.00000   \n",
       "number_of_reviews_ltm                 0.00000        1.00000         6.00000   \n",
       "license                                   NaN            NaN             NaN   \n",
       "\n",
       "                                                    max  \n",
       "id                             591071279796001152.00000  \n",
       "host_id                                 451326096.00000  \n",
       "neighbourhood_group                                 NaN  \n",
       "latitude                                      -33.55177  \n",
       "longitude                                      18.94104  \n",
       "price                                      182000.00000  \n",
       "minimum_nights                                730.00000  \n",
       "number_of_reviews                             564.00000  \n",
       "reviews_per_month                              19.66000  \n",
       "calculated_host_listings_count                100.00000  \n",
       "availability_365                              365.00000  \n",
       "number_of_reviews_ltm                         142.00000  \n",
       "license                                             NaN  "
      ]
     },
     "execution_count": 5,
     "metadata": {},
     "output_type": "execute_result"
    }
   ],
   "source": [
    "df.describe().T"
   ]
  },
  {
   "cell_type": "code",
   "execution_count": 6,
   "id": "30f7a513-cd6f-463c-bd28-8b9ebabfa0ee",
   "metadata": {},
   "outputs": [
    {
     "name": "stdout",
     "output_type": "stream",
     "text": [
      "Hosts with the most listing - Top 20 \n",
      "\n",
      "Top 20 Airbnb hosts: \n",
      " host_id\n",
      "57218252     100\n",
      "262434513    100\n",
      "281646889     90\n",
      "3886732       75\n",
      "3961453       74\n",
      "2516345       65\n",
      "185308070     60\n",
      "261535066     52\n",
      "264888170     46\n",
      "63202371      45\n",
      "20600730      43\n",
      "337849463     43\n",
      "154279041     41\n",
      "257734440     40\n",
      "437836003     38\n",
      "8108425       37\n",
      "445649321     36\n",
      "48303994      36\n",
      "6111977       34\n",
      "6632489       33\n",
      "Name: id, dtype: int64 \n",
      "\n",
      "\n"
     ]
    },
    {
     "data": {
      "image/png": "[encoded data removed]",
      "text/plain": [
       "<Figure size 432x288 with 1 Axes>"
      ]
     },
     "metadata": {
      "needs_background": "light"
     },
     "output_type": "display_data"
    }
   ],
   "source": [
    "#count the airbnb listing by the hosts\n",
    "print(\"Hosts with the most listing - Top 20 \\n\" )\n",
    "print(\"Top 20 Airbnb hosts: \\n\", df.groupby(\"host_id\")['id'].count().sort_values(ascending = False).head(20),\"\\n\\n\")\n",
    "\n",
    "df.groupby(\"host_id\")['id'].count().sort_values(ascending = False).head(20).plot(kind = 'bar')\n",
    "plt.title(\"Hosts with the most listing - Top 20\")\n",
    "plt.ylabel(\"Listing Count\")\n",
    "plt.show()"
   ]
  },
  {
   "cell_type": "markdown",
   "id": "2a2ab952-8166-417c-9205-34fbf6bdd941",
   "metadata": {},
   "source": [
    "### A tale of two investors\n",
    "\n",
    "I would like to investigate the top 2 Air Bnb listings owners - host 1 and 2, given that they both have 100 listings. It would be interesting to find out what differences exists between the two and which investment strategy I would prefer if I had the choice."
   ]
  },
  {
   "cell_type": "code",
   "execution_count": 7,
   "id": "6859a4cf-6e29-4547-b771-b21bff72ee6a",
   "metadata": {},
   "outputs": [
    {
     "name": "stdout",
     "output_type": "stream",
     "text": [
      "Host #57218252 listings by type: \n",
      " Entire home/apt    99\n",
      "Hotel room          1\n",
      "Name: room_type, dtype: int64 \n",
      "\n",
      "\n",
      "Host #262434513 listings by type: \n",
      " Private room       98\n",
      "Entire home/apt     2\n",
      "Name: room_type, dtype: int64\n"
     ]
    }
   ],
   "source": [
    "#What type of listing does the top host own\n",
    "top_host1 = df.host_id == 57218252\n",
    "top_host2 = df.host_id == 262434513\n",
    "print(\"Host #57218252 listings by type: \\n\",df[top_host1].room_type.value_counts(),\"\\n\\n\")\n",
    "print(\"Host #262434513 listings by type: \\n\",df[top_host2].room_type.value_counts())"
   ]
  },
  {
   "cell_type": "code",
   "execution_count": 8,
   "id": "2d70a082-d90d-4434-bafd-2a37cae8f351",
   "metadata": {},
   "outputs": [
    {
     "data": {
      "image/png": "[encoded data removed]",
      "text/plain": [
       "<Figure size 1080x720 with 2 Axes>"
      ]
     },
     "metadata": {
      "needs_background": "light"
     },
     "output_type": "display_data"
    }
   ],
   "source": [
    "#initiate figure\n",
    "fig = plt.figure(figsize=(15,10))\n",
    "#create graph space for 2 scatter plots\n",
    "ax1 = fig.add_subplot(1,2,1)\n",
    "ax2 = fig.add_subplot(1,2,2)\n",
    "#create scatter plots for host 1 and host 2 respectively\n",
    "sns.scatterplot(x = \"longitude\", y = \"latitude\", data= df[top_host1], \n",
    "                hue= \"neighbourhood\", alpha= 0.7, size = 'price', ax = ax1)\n",
    "sns.scatterplot(x = \"longitude\", y = \"latitude\", data= df[top_host2], \n",
    "                hue= \"neighbourhood\", alpha= 0.7, size = 'price', ax = ax2)\n",
    "#set titles for graphs\n",
    "ax1.set_title(\"Host #57218252 Listings Location and Price\")\n",
    "ax2.set_title(\"Host #262434513 Listings Location and Price\")\n",
    "\n",
    "#save and show graphs\n",
    "plt.savefig(\"Top Hosts' Listings Location and Price\")\n",
    "plt.show()"
   ]
  },
  {
   "cell_type": "markdown",
   "id": "81acf2ae-668a-4829-b603-8e5f92166574",
   "metadata": {},
   "source": [
    "The top 2 hosts, both with 100 listings, show varying locations and prices in their listings. The scatter plot on the left shows listings in 3 wards, with rates from R6 000 to R30 000 a night, relatively spaced out but close to the Cape Town coastline (refer to the Tableau deck for map view). Interestingly, the other scatter plot varies quite significantly to the first host's listing. This graph shows listings in more neighbourhoods and concentrated together in tight clusters. In addition, the rates range from R1 500 to R7 500.\n",
    "\n",
    "The next figure shows the listings for both hosts in the same graph for relative comparison."
   ]
  },
  {
   "cell_type": "code",
   "execution_count": 9,
   "id": "652654df-65a1-4700-8045-3bef798b181c",
   "metadata": {},
   "outputs": [
    {
     "data": {
      "image/png": "[encoded data removed]",
      "text/plain": [
       "<Figure size 1080x720 with 1 Axes>"
      ]
     },
     "metadata": {
      "needs_background": "light"
     },
     "output_type": "display_data"
    }
   ],
   "source": [
    "#initiate figure\n",
    "fig = plt.figure(figsize=(15,10))\n",
    "#create graph space for 2 scatter plots\n",
    "\n",
    "#create scatter plots for host 1 and host 2 respectively\n",
    "sns.scatterplot(x = \"longitude\", y = \"latitude\", data= df[top_host1], \n",
    "                color = \"#1C5859\", alpha= 0.7, size = 'price')\n",
    "sns.scatterplot(x = \"longitude\", y = \"latitude\", data= df[top_host2], \n",
    "                color = \"#B2342F\", alpha= 0.7, size = 'price')\n",
    "#set titles for graphs\n",
    "plt.title(\"Host 1 and 2 Listings Location and Price\")\n",
    "plt.legend(['Host 1','Host 2'])\n",
    "\n",
    "#save and show graphs\n",
    "plt.savefig(\"Top Hosts' Listings Location and Price (Combined)\")\n",
    "plt.show()"
   ]
  },
  {
   "cell_type": "markdown",
   "id": "b66d61ed-c7e8-46cb-b39d-569f5331041e",
   "metadata": {},
   "source": [
    "So these hosts show different investment strategies. One host prefers listings with a higher price and is focused on the coastline areas of Cape Town, while the other looks for listings that are more affordable for tourists, often within the city, away from the coastline. \n",
    "\n",
    "Referring to the Tableau Dashboard for more detailed map information: if you are familiar with Cape Town, you will notice that Host 1 (#57218252) owns listings in the higher income areas along the sea board such as Clifton and The Glen, thus warranting the higher than average rates, while Host 2 (#262434513) has listings in central Cape Town in areas like WoodStock and Goodwood, where tourists can enjoy the city life, relatively further from the beach. \n",
    "\n",
    "Which do you think is the more profitable investment strategy? Higher priced listings with ocean views or lower priced listings closer to city life?\n",
    "I would imagine that the higher priced listing are occupied less often to the lower priced listings due to the high price.\n",
    "Let's investigate the top two hosts in more detail - focusing on the 'price' feature or rates per night"
   ]
  },
  {
   "cell_type": "code",
   "execution_count": 10,
   "id": "3f7e3e04-3f85-4861-92ef-98643d61885b",
   "metadata": {},
   "outputs": [
    {
     "name": "stdout",
     "output_type": "stream",
     "text": [
      "Host 1 name:  Nox\n",
      "Host 2 name:  Neo\n"
     ]
    }
   ],
   "source": [
    "#just out of curiousity - what are the top hosts' names\n",
    "print(\"Host 1 name: \",df[top_host1].iloc[0,3])\n",
    "print(\"Host 2 name: \",df[top_host2].iloc[0,3])"
   ]
  },
  {
   "cell_type": "code",
   "execution_count": 11,
   "id": "d8f459b7-d87a-48d3-b4df-ad550843747c",
   "metadata": {},
   "outputs": [
    {
     "name": "stdout",
     "output_type": "stream",
     "text": [
      "Host 1 listing rates by Neighbourhood: \n",
      "\n"
     ]
    },
    {
     "data": {
      "text/html": [
       "<div>\n",
       "<style scoped>\n",
       "    .dataframe tbody tr th:only-of-type {\n",
       "        vertical-align: middle;\n",
       "    }\n",
       "\n",
       "    .dataframe tbody tr th {\n",
       "        vertical-align: top;\n",
       "    }\n",
       "\n",
       "    .dataframe thead th {\n",
       "        text-align: right;\n",
       "    }\n",
       "</style>\n",
       "<table border=\"1\" class=\"dataframe\">\n",
       "  <thead>\n",
       "    <tr style=\"text-align: right;\">\n",
       "      <th></th>\n",
       "      <th>min</th>\n",
       "      <th>count</th>\n",
       "      <th>max</th>\n",
       "      <th>mean</th>\n",
       "    </tr>\n",
       "    <tr>\n",
       "      <th>neighbourhood</th>\n",
       "      <th></th>\n",
       "      <th></th>\n",
       "      <th></th>\n",
       "      <th></th>\n",
       "    </tr>\n",
       "  </thead>\n",
       "  <tbody>\n",
       "    <tr>\n",
       "      <th>Ward 115</th>\n",
       "      <td>1431</td>\n",
       "      <td>19</td>\n",
       "      <td>9500</td>\n",
       "      <td>4104.63158</td>\n",
       "    </tr>\n",
       "    <tr>\n",
       "      <th>Ward 54</th>\n",
       "      <td>2729</td>\n",
       "      <td>76</td>\n",
       "      <td>32500</td>\n",
       "      <td>9675.97368</td>\n",
       "    </tr>\n",
       "    <tr>\n",
       "      <th>Ward 77</th>\n",
       "      <td>2534</td>\n",
       "      <td>5</td>\n",
       "      <td>21500</td>\n",
       "      <td>9061.40000</td>\n",
       "    </tr>\n",
       "  </tbody>\n",
       "</table>\n",
       "</div>"
      ],
      "text/plain": [
       "                min  count    max       mean\n",
       "neighbourhood                               \n",
       "Ward 115       1431     19   9500 4104.63158\n",
       "Ward 54        2729     76  32500 9675.97368\n",
       "Ward 77        2534      5  21500 9061.40000"
      ]
     },
     "execution_count": 11,
     "metadata": {},
     "output_type": "execute_result"
    }
   ],
   "source": [
    "#price by neightbourhood\n",
    "print(\"Host 1 listing rates by Neighbourhood: \\n\")\n",
    "df[top_host1].groupby(\"neighbourhood\")['price'].agg({'min','max','mean','count'})"
   ]
  },
  {
   "cell_type": "code",
   "execution_count": 12,
   "id": "d3c5dff0-7a1a-4773-b2af-3f78f7cfaae7",
   "metadata": {},
   "outputs": [
    {
     "name": "stdout",
     "output_type": "stream",
     "text": [
      "Host 2 listing rates by Neighbourhood: \n",
      "\n"
     ]
    },
    {
     "data": {
      "text/html": [
       "<div>\n",
       "<style scoped>\n",
       "    .dataframe tbody tr th:only-of-type {\n",
       "        vertical-align: middle;\n",
       "    }\n",
       "\n",
       "    .dataframe tbody tr th {\n",
       "        vertical-align: top;\n",
       "    }\n",
       "\n",
       "    .dataframe thead th {\n",
       "        text-align: right;\n",
       "    }\n",
       "</style>\n",
       "<table border=\"1\" class=\"dataframe\">\n",
       "  <thead>\n",
       "    <tr style=\"text-align: right;\">\n",
       "      <th></th>\n",
       "      <th>min</th>\n",
       "      <th>count</th>\n",
       "      <th>max</th>\n",
       "      <th>mean</th>\n",
       "    </tr>\n",
       "    <tr>\n",
       "      <th>neighbourhood</th>\n",
       "      <th></th>\n",
       "      <th></th>\n",
       "      <th></th>\n",
       "      <th></th>\n",
       "    </tr>\n",
       "  </thead>\n",
       "  <tbody>\n",
       "    <tr>\n",
       "      <th>Ward 10</th>\n",
       "      <td>360</td>\n",
       "      <td>5</td>\n",
       "      <td>440</td>\n",
       "      <td>408.00000</td>\n",
       "    </tr>\n",
       "    <tr>\n",
       "      <th>Ward 115</th>\n",
       "      <td>550</td>\n",
       "      <td>2</td>\n",
       "      <td>700</td>\n",
       "      <td>625.00000</td>\n",
       "    </tr>\n",
       "    <tr>\n",
       "      <th>Ward 2</th>\n",
       "      <td>400</td>\n",
       "      <td>16</td>\n",
       "      <td>680</td>\n",
       "      <td>470.00000</td>\n",
       "    </tr>\n",
       "    <tr>\n",
       "      <th>Ward 26</th>\n",
       "      <td>420</td>\n",
       "      <td>18</td>\n",
       "      <td>8241</td>\n",
       "      <td>2191.27778</td>\n",
       "    </tr>\n",
       "    <tr>\n",
       "      <th>Ward 27</th>\n",
       "      <td>600</td>\n",
       "      <td>2</td>\n",
       "      <td>700</td>\n",
       "      <td>650.00000</td>\n",
       "    </tr>\n",
       "    <tr>\n",
       "      <th>Ward 53</th>\n",
       "      <td>320</td>\n",
       "      <td>57</td>\n",
       "      <td>640</td>\n",
       "      <td>437.89474</td>\n",
       "    </tr>\n",
       "  </tbody>\n",
       "</table>\n",
       "</div>"
      ],
      "text/plain": [
       "               min  count   max       mean\n",
       "neighbourhood                             \n",
       "Ward 10        360      5   440  408.00000\n",
       "Ward 115       550      2   700  625.00000\n",
       "Ward 2         400     16   680  470.00000\n",
       "Ward 26        420     18  8241 2191.27778\n",
       "Ward 27        600      2   700  650.00000\n",
       "Ward 53        320     57   640  437.89474"
      ]
     },
     "execution_count": 12,
     "metadata": {},
     "output_type": "execute_result"
    }
   ],
   "source": [
    "#price by neightbourhood\n",
    "print(\"Host 2 listing rates by Neighbourhood: \\n\")\n",
    "df[top_host2].groupby(\"neighbourhood\")['price'].agg({'min','max','mean','count'})"
   ]
  },
  {
   "cell_type": "code",
   "execution_count": 13,
   "id": "d4b4b085-c5a7-49a8-ab71-8ef3cf2a1d49",
   "metadata": {},
   "outputs": [
    {
     "name": "stdout",
     "output_type": "stream",
     "text": [
      "Rates of Top Host 1: \n",
      "\n",
      "The lowest rate per night is R1431\n",
      "The highest rate per night is R32500\n",
      "\n",
      "\n",
      " Top 20 Highest Rates for Top Host 1: \n",
      " 10106    32500\n",
      "8094     21500\n",
      "7921     21500\n",
      "5368     19249\n",
      "6236     18030\n",
      "2505     17944\n",
      "7987     17700\n",
      "2514     17470\n",
      "4992     17425\n",
      "2601     16000\n",
      "13748    15000\n",
      "7965     15000\n",
      "2509     14960\n",
      "11247    14735\n",
      "3109     14692\n",
      "4796     14671\n",
      "8135     14593\n",
      "8466     14402\n",
      "10108    14100\n",
      "14415    14054\n",
      "Name: price, dtype: int64\n"
     ]
    }
   ],
   "source": [
    "#top 20 listings of the top host 1\n",
    "print(\"Rates of Top Host 1: \\n\")\n",
    "print(\"The lowest rate per night is R{}\".format(df[top_host1].price.min()))\n",
    "print(\"The highest rate per night is R{}\".format(df[top_host1].price.max()))\n",
    "\n",
    "print(\"\\n\\n Top 20 Highest Rates for Top Host 1: \\n\", df[top_host1].price.sort_values(ascending = False).head(20))"
   ]
  },
  {
   "cell_type": "code",
   "execution_count": 14,
   "id": "bd6c6e8e-7453-45ac-99b1-578c187cd9b6",
   "metadata": {},
   "outputs": [
    {
     "name": "stdout",
     "output_type": "stream",
     "text": [
      "Rates of Top Host 2: \n",
      "\n",
      "The lowest rate per night is R320\n",
      "The highest rate per night is R8241\n",
      "\n",
      "\n",
      " Top 20 Highest Rates for Top Host 1: \n",
      " 15335    8241\n",
      "15336    8241\n",
      "15337    8241\n",
      "17284    3200\n",
      "17283    2400\n",
      "17282    2400\n",
      "16425     900\n",
      "15649     700\n",
      "15283     700\n",
      "16429     700\n",
      "16931     680\n",
      "16409     660\n",
      "15647     650\n",
      "17213     640\n",
      "17223     600\n",
      "15646     600\n",
      "16928     560\n",
      "16925     560\n",
      "15277     550\n",
      "15276     550\n",
      "Name: price, dtype: int64\n"
     ]
    }
   ],
   "source": [
    "#top 20 listings of the top host 2\n",
    "print(\"Rates of Top Host 2: \\n\")\n",
    "print(\"The lowest rate per night is R{}\".format(df[top_host2].price.min()))\n",
    "print(\"The highest rate per night is R{}\".format(df[top_host2].price.max()))\n",
    "\n",
    "print(\"\\n\\n Top 20 Highest Rates for Top Host 1: \\n\", df[top_host2].price.sort_values(ascending = False).head(20))\n"
   ]
  },
  {
   "cell_type": "code",
   "execution_count": 15,
   "id": "d73b820a-67b5-4252-8d5a-ad33fe204542",
   "metadata": {},
   "outputs": [
    {
     "data": {
      "image/png": "[encoded data removed]",
      "text/plain": [
       "<Figure size 1080x720 with 2 Axes>"
      ]
     },
     "metadata": {
      "needs_background": "light"
     },
     "output_type": "display_data"
    }
   ],
   "source": [
    "#initiate graph with 2 subplots\n",
    "fig = plt.figure(figsize=(15,10))\n",
    "ax1 = fig.add_subplot(1,2,1)\n",
    "ax2 = fig.add_subplot(1,2,2)\n",
    "\n",
    "#host 1\n",
    "df[top_host1].price.plot(kind = 'hist', color = \"#043565\", alpha = 0.75, ax = ax1, bins = 16)\n",
    "ax1.set_title(\"Host 1 Listing: Price Rates\")\n",
    "ax1.set_xlabel(\"Listing Rates\")\n",
    "\n",
    "#host 2\n",
    "df[top_host2].price.plot(kind = 'hist', color = \"#337B4C\", alpha = 0.75, ax = ax2, bins = 16)\n",
    "ax2.set_title(\"Host 2 Listing: Price Rates\")\n",
    "ax2.set_xlabel(\"Listing Rates\")\n",
    "\n",
    "#display settings\n",
    "ax1.sharey(ax2)\n",
    "plt.suptitle(\"Histogram of Rates for Host 1 and 2 Listings\")\n",
    "plt.savefig(\"Histogram of Rates for Host 1 and 2 Listings\")\n",
    "plt.show()"
   ]
  },
  {
   "cell_type": "markdown",
   "id": "e1b7c9af-9c0c-4a0b-9684-f6136d7bbfae",
   "metadata": {},
   "source": [
    "Host 1 listings are spread between 3 wards or neighborhood groups in Cape Town, with ward 54 showing the highest average price of a listing (R9 675 per night). Host 2's listings are found in 6 wards, with ward 26 showing the highest average price (R 2 191 per night).\n",
    "From the above histograms, you can see that Host 1's listings (left) are spread out more by price compared to Host 2 (right), where most listings fall under R1 000 per night"
   ]
  },
  {
   "cell_type": "markdown",
   "id": "14a5ad35-ddb6-4bc5-b577-489c89623dbe",
   "metadata": {
    "tags": []
   },
   "source": [
    "## Hypothetical situation - December holiday profits\n",
    "\n",
    "I want to determine which hosts stands to make more money from their listings in December. Cape Town in December is a tourist hot spot. So it would be interesting to simulate revenue for host 1 and 2 with the following assumptions:\n",
    "\n",
    "1. More expensive listings will be occupied less often than the relatively cheaper rates. So we will assume that host 1 has a lower occupancy rate than host 2.\n",
    "2. Assume a probability distribution for occupancy in December for host 1 and 2\n",
    "\n",
    "      host 1:      poisson distribution with lambda of 14 days, and 30% of the listings are occupied\n",
    "      \n",
    "      host 2:      poisson distirbution with a lambda of 22 days, and 65% of the listings are occupied"
   ]
  },
  {
   "cell_type": "code",
   "execution_count": 16,
   "id": "2b46618b-e195-4693-82b0-ca39748b763e",
   "metadata": {},
   "outputs": [],
   "source": [
    "host1_rates = np.array(df[top_host1].price)\n",
    "host2_rates = np.array(df[top_host2].price)"
   ]
  },
  {
   "cell_type": "code",
   "execution_count": 17,
   "id": "df4ba62d-c33e-47ad-97e3-695edb586539",
   "metadata": {},
   "outputs": [],
   "source": [
    "#monte carlo simulation - top host 1's potential December profit\n",
    "booked_host1 = []\n",
    "for i in range(0, 500): #500 simulations of December bookings\n",
    "    bookings = []\n",
    "    for k in np.random.choice([0, 1], size=len(host1_rates), p=[0.7, 0.3]): #30% of host 1 listings chosen at random\n",
    "        if k == 1:\n",
    "            for m in host1_rates:\n",
    "                bookings.append(m * np.random.poisson(lam = 14)) #each listing is given random number of days occupied in poisson dist \n",
    "        else:\n",
    "            bookings.append(0) #non-occupied listings do not generate revenue\n",
    "    booked_host1.append(np.sum(bookings))"
   ]
  },
  {
   "cell_type": "code",
   "execution_count": 18,
   "id": "f9c37423-19e3-4e5f-ab3e-a9691bf83897",
   "metadata": {},
   "outputs": [],
   "source": [
    "#monte carlo simulation - top host 2's potential December profit\n",
    "booked_host2 = []\n",
    "for i in range(0, 500): #500 simulations of December bookings\n",
    "    bookings = []\n",
    "    for k in np.random.choice([0, 1], size=len(host1_rates), p=[.35, .65]): #65% of host 1 listings chosen at random\n",
    "        if k == 1:\n",
    "            for m in host2_rates:\n",
    "                bookings.append(m * np.random.poisson(lam = 22)) #each listing is given random number of days occupied in poisson dist\n",
    "        else:\n",
    "            bookings.append(0) #non-occupied listings do not generate revenue\n",
    "    booked_host2.append(np.sum(bookings))"
   ]
  },
  {
   "cell_type": "code",
   "execution_count": 19,
   "id": "decab73a-2423-405c-a544-c6a6f4b07232",
   "metadata": {},
   "outputs": [
    {
     "data": {
      "image/png": "[encoded data removed]",
      "text/plain": [
       "<Figure size 864x576 with 1 Axes>"
      ]
     },
     "metadata": {
      "needs_background": "light"
     },
     "output_type": "display_data"
    }
   ],
   "source": [
    "#show total revenue distribution of both hosts in December \n",
    "fig = plt.figure(figsize= (12,8))\n",
    "ax = fig.add_subplot(1,1,1)\n",
    "plt.hist(booked_host1, color = \"#761744\", alpha = 0.7, label = 'Host 1: \\u03BB = 14')\n",
    "plt.hist(booked_host2, color = \"#337B4C\", alpha = 0.7, label = 'Host 2: \\u03BB = 22')\n",
    "plt.legend(loc = 'best')\n",
    "plt.xlabel(\"Revenue\")\n",
    "plt.title(\"Expected December Revenue for Host 1 and 2\")\n",
    "plt.savefig(\"Expected December Revenue for Host 1 and 2\")\n",
    "plt.show()"
   ]
  },
  {
   "cell_type": "code",
   "execution_count": 20,
   "id": "9db0ffd8-7e49-46d6-86f5-872c5e64b593",
   "metadata": {},
   "outputs": [
    {
     "name": "stdout",
     "output_type": "stream",
     "text": [
      "Summary stats for Host 1: \n",
      "\n",
      "Mean:     359752531.87\n",
      "Std Dev:  56413933.41\n",
      "Min:      204299278.00\n",
      "Max:      518360178.00\n",
      "Summary stats for Host 2: \n",
      "\n",
      "Mean:     109012098.16\n",
      "Std Dev:  8129616.90\n",
      "Min:      83690188.00\n",
      "Max:      135873168.00\n"
     ]
    }
   ],
   "source": [
    "print(\"Summary stats for Host 1: \\n\")\n",
    "print(\"Mean:     {:.2f}\".format(np.mean(booked_host1)))\n",
    "print(\"Std Dev:  {:.2f}\".format(np.std(booked_host1)))\n",
    "print(\"Min:      {:.2f}\".format(np.min(booked_host1)))\n",
    "print(\"Max:      {:.2f}\".format(np.max(booked_host1)))\n",
    "\n",
    "print(\"Summary stats for Host 2: \\n\")\n",
    "print(\"Mean:     {:.2f}\".format(np.mean(booked_host2)))\n",
    "print(\"Std Dev:  {:.2f}\".format(np.std(booked_host2)))\n",
    "print(\"Min:      {:.2f}\".format(np.min(booked_host2)))\n",
    "print(\"Max:      {:.2f}\".format(np.max(booked_host2)))"
   ]
  },
  {
   "cell_type": "markdown",
   "id": "057bd68a-5b8f-47db-a977-e930b76cf7a4",
   "metadata": {},
   "source": [
    "According to the above experiment, despite having a lower occupancy rate, Host 1 will make substantially more in revenue compared to Host 1.\n",
    "Host 1 could make a revenue of between R208 million and R489 million from their 100 listings\n",
    "Host 2 could make a revenue of between R86.5 million and R140 million from their 100 listings\n",
    "\n",
    "Can Host 2 reach the same level of profit as Host 1? Let's assume a higher amount of listings are occupied with more average days booked."
   ]
  },
  {
   "cell_type": "code",
   "execution_count": 21,
   "id": "86d1859a-cf5f-409a-92fa-0c465df0e356",
   "metadata": {},
   "outputs": [],
   "source": [
    "#monte carlo simulation - top host 1's potential December profit\n",
    "booked_host1 = []\n",
    "for i in range(0, 250):\n",
    "    bookings = []\n",
    "    for k in np.random.choice([0, 1], size=len(host1_rates), p=[.65, .35]):\n",
    "        if k == 1:\n",
    "            for m in host1_rates:\n",
    "                bookings.append(m * np.random.poisson(lam = 14))\n",
    "        else:\n",
    "            bookings.append(0)\n",
    "    booked_host1.append(np.sum(bookings))\n",
    "    \n",
    "#monte carlo simulation - top host 2's potential December profit\n",
    "booked_host2 = []\n",
    "for i in range(0, 250):\n",
    "    bookings = []\n",
    "    for k in np.random.choice([0, 1], size=len(host1_rates), p=[.2, .8]):\n",
    "        if k == 1:\n",
    "            for m in host2_rates:\n",
    "                bookings.append(m * np.random.poisson(lam = 27))\n",
    "        else:\n",
    "            bookings.append(0)\n",
    "    booked_host2.append(np.sum(bookings))"
   ]
  },
  {
   "cell_type": "code",
   "execution_count": 22,
   "id": "9fcbaf8c-7dd4-4f95-b2dc-856cb206b1b3",
   "metadata": {},
   "outputs": [
    {
     "data": {
      "image/png": "[encoded data removed]",
      "text/plain": [
       "<Figure size 864x576 with 1 Axes>"
      ]
     },
     "metadata": {
      "needs_background": "light"
     },
     "output_type": "display_data"
    }
   ],
   "source": [
    "fig = plt.figure(figsize= (12,8))\n",
    "ax = fig.add_subplot(1,1,1)\n",
    "plt.hist(booked_host1, color = \"#761744\", alpha = 0.7, label = 'Host 1: \\u03BB = 14')\n",
    "plt.hist(booked_host2, color = \"#337B4C\", alpha = 0.7, label = 'Host 2: \\u03BB = 22')\n",
    "plt.legend(loc = 'best')\n",
    "plt.xlabel(\"Revenue\")\n",
    "plt.title(\"Expected December Revenue for Host 1  \\u03BB = 14; Occupancy = 35%, and Host 2 - \\u03BB = 22; Occupancy = 80%\")\n",
    "plt.savefig(\"Expected December Revenue for Host 1  \\u03BB = 14; Occupancy = 35%, and Host 2 - \\u03BB = 22; Occupancy = 80%\")\n",
    "plt.show()"
   ]
  },
  {
   "cell_type": "code",
   "execution_count": 23,
   "id": "c610f8c3-784f-4c75-a00a-f1e54f1c1903",
   "metadata": {},
   "outputs": [
    {
     "name": "stdout",
     "output_type": "stream",
     "text": [
      "Summary stats for Host 1: \n",
      "\n",
      "Mean:     421870559.40\n",
      "Std Dev:  53778817.10\n",
      "Min:      286924388.00\n",
      "Max:      612682204.00\n",
      "Summary stats for Host 2: \n",
      "\n",
      "Mean:     164841389.12\n",
      "Std Dev:  8065604.08\n",
      "Min:      140681736.00\n",
      "Max:      184252573.00\n"
     ]
    }
   ],
   "source": [
    "print(\"Summary stats for Host 1: \\n\")\n",
    "print(\"Mean:     {:.2f}\".format(np.mean(booked_host1)))\n",
    "print(\"Std Dev:  {:.2f}\".format(np.std(booked_host1)))\n",
    "print(\"Min:      {:.2f}\".format(np.min(booked_host1)))\n",
    "print(\"Max:      {:.2f}\".format(np.max(booked_host1)))\n",
    "\n",
    "print(\"Summary stats for Host 2: \\n\")\n",
    "print(\"Mean:     {:.2f}\".format(np.mean(booked_host2)))\n",
    "print(\"Std Dev:  {:.2f}\".format(np.std(booked_host2)))\n",
    "print(\"Min:      {:.2f}\".format(np.min(booked_host2)))\n",
    "print(\"Max:      {:.2f}\".format(np.max(booked_host2)))"
   ]
  },
  {
   "cell_type": "markdown",
   "id": "41041a16-9ed6-48b4-aad3-a36a981a9135",
   "metadata": {},
   "source": [
    "Even with a higher occupancy to host 1 (80% for host 2 compared to 30%), host 2's revenue is still significantly lower. "
   ]
  },
  {
   "cell_type": "markdown",
   "id": "ec72afbd-8aef-4434-ab96-11efb99cf50d",
   "metadata": {},
   "source": [
    "## Conclusion\n",
    "\n",
    "Based on the above experiment, it makes more sense to go with the portfolio of host 1 who has more expensive listings.\n",
    "However, to make a better informed decision, I would like to see real occupancy data of the listings from previous years or months to determine what is realistic for listings with varying prices. In addition, the cost of owning the listings should be taken into consideration to determine the return on investment for both hosts."
   ]
  }
 ],
 "metadata": {
  "kernelspec": {
   "display_name": "Python 3 (ipykernel)",
   "language": "python",
   "name": "python3"
  },
  "language_info": {
   "codemirror_mode": {
    "name": "ipython",
    "version": 3
   },
   "file_extension": ".py",
   "mimetype": "text/x-python",
   "name": "python",
   "nbconvert_exporter": "python",
   "pygments_lexer": "ipython3",
   "version": "3.9.7"
  }
 },
 "nbformat": 4,
 "nbformat_minor": 5
}
